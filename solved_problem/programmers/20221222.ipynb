{
 "cells": [
  {
   "cell_type": "code",
   "execution_count": 22,
   "metadata": {},
   "outputs": [],
   "source": [
    "#Lv2-최댓값과 최솟값 (못품 ㅎ)\n",
    "#입력값 s를 split한 후 int형변환을 해주어야함\n",
    "#split한 결과값은 리스트로 저장됨\n",
    "#map함수 두번째 인자는 iterable객체 모두 사용 가능\n",
    "def solution(s):\n",
    "#     s_list=s.split(' ')\n",
    "    s_list=list(map(int, s.split(' ')))\n",
    "    answer = ''\n",
    "    answer=str(min(s_list))+' '+str(max(s_list))\n",
    "\n",
    "    \n",
    "    return answer"
   ]
  },
  {
   "cell_type": "code",
   "execution_count": 23,
   "metadata": {},
   "outputs": [
    {
     "data": {
      "text/plain": [
       "'-4 -1'"
      ]
     },
     "execution_count": 23,
     "metadata": {},
     "output_type": "execute_result"
    }
   ],
   "source": [
    "solution(\"-1 -2 -3 -4\")"
   ]
  },
  {
   "cell_type": "code",
   "execution_count": 26,
   "metadata": {},
   "outputs": [
    {
     "data": {
      "text/plain": [
       "<map at 0x7fc8e4a95ee0>"
      ]
     },
     "execution_count": 26,
     "metadata": {},
     "output_type": "execute_result"
    }
   ],
   "source": [
    "# map은 리스트의 요소를 지정된 함수로 처리해주는 함수\n",
    "a = [1.2, 2.5, 3.7, 4.6]\n",
    "a = list(map(int, a))\n",
    "# map에는 리스트뿐만 아니라 모든 반복 가능한 객체를 넣을 수 있음\n",
    "map(int, \"-1 -2 -3 -4\".split(' '))"
   ]
  },
  {
   "cell_type": "code",
   "execution_count": null,
   "metadata": {},
   "outputs": [],
   "source": [
    "#Lv2-음양 더하기(품)\n",
    "def solution(absolutes, signs):\n",
    "    num_list=[]\n",
    "    for i in range(len(absolutes)):\n",
    "        if signs[i] is True:\n",
    "            num_list.append(absolutes[i])\n",
    "        else:\n",
    "            num_list.append(-absolutes[i])\n",
    "    answer=sum(num_list)\n",
    "    return answer\n",
    "\n",
    "#####best code###\n",
    "\n",
    "def solution(absolutes, signs):\n",
    "    return sum(absolutes if sign else -absolutes for absolutes, sign in zip(absolutes, signs))"
   ]
  },
  {
   "cell_type": "code",
   "execution_count": 27,
   "metadata": {},
   "outputs": [],
   "source": [
    "#Lv2-없는 숫자 더하기\n",
    "def solution(numbers):\n",
    "    \n",
    "    return sum([i for i in range(1,10) if i not in numbers])"
   ]
  },
  {
   "cell_type": "code",
   "execution_count": 29,
   "metadata": {},
   "outputs": [
    {
     "data": {
      "text/plain": [
       "14"
      ]
     },
     "execution_count": 29,
     "metadata": {},
     "output_type": "execute_result"
    }
   ],
   "source": [
    "solution([1,2,3,4,6,7,8,0])"
   ]
  },
  {
   "cell_type": "code",
   "execution_count": null,
   "metadata": {},
   "outputs": [],
   "source": []
  },
  {
   "cell_type": "code",
   "execution_count": null,
   "metadata": {},
   "outputs": [],
   "source": []
  }
 ],
 "metadata": {
  "kernelspec": {
   "display_name": "Python 3",
   "language": "python",
   "name": "python3"
  },
  "language_info": {
   "codemirror_mode": {
    "name": "ipython",
    "version": 3
   },
   "file_extension": ".py",
   "mimetype": "text/x-python",
   "name": "python",
   "nbconvert_exporter": "python",
   "pygments_lexer": "ipython3",
   "version": "3.8.3"
  }
 },
 "nbformat": 4,
 "nbformat_minor": 4
}
