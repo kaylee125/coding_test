{
 "cells": [
  {
   "cell_type": "markdown",
   "metadata": {},
   "source": [
    "### LV1. 행렬의 덧셈\n",
    "행렬의 덧셈은 행과 열의 크기가 같은 두 행렬의 같은 행, 같은 열의 값을 서로 더한 결과가 됩니다. 2개의 행렬 arr1과 arr2를 입력받아, 행렬 덧셈의 결과를 반환하는 함수, solution을 완성해주세요."
   ]
  },
  {
   "cell_type": "code",
   "execution_count": 68,
   "metadata": {},
   "outputs": [],
   "source": [
    "def solution(arr1,arr2):\n",
    "    rows=len(arr1)\n",
    "    cols=len(arr1[0])\n",
    "    \n",
    "    #2차원 배열 선언\n",
    "    #리스트 컴프리헨션 2중 for문으로 2차원배열 초기화\n",
    "    res_arr = [[0 for col in range(cols)] for row in range(rows)]\n",
    "    \n",
    "    #res_arr 배열에 arr1,arr2 sum value 합치기\n",
    "    for i in range(rows):\n",
    "        for j in range(cols):\n",
    "            res_arr[i][j]=arr1[i][j]+arr2[i][j]\n",
    "    return res_arr"
   ]
  },
  {
   "cell_type": "code",
   "execution_count": 69,
   "metadata": {},
   "outputs": [
    {
     "data": {
      "text/plain": [
       "[[4], [6]]"
      ]
     },
     "execution_count": 69,
     "metadata": {},
     "output_type": "execute_result"
    }
   ],
   "source": [
    "solution([[1],[2]],[[3],[4]])"
   ]
  },
  {
   "cell_type": "code",
   "execution_count": 70,
   "metadata": {},
   "outputs": [
    {
     "data": {
      "text/plain": [
       "[[4, 6], [7, 9]]"
      ]
     },
     "execution_count": 70,
     "metadata": {},
     "output_type": "execute_result"
    }
   ],
   "source": [
    "solution([[1,2],[2,3]],[[3,4],[5,6]])"
   ]
  },
  {
   "cell_type": "code",
   "execution_count": 73,
   "metadata": {},
   "outputs": [
    {
     "name": "stdout",
     "output_type": "stream",
     "text": [
      "[[4, 6], [7, 9]]\n"
     ]
    }
   ],
   "source": [
    "###참고코드-map,zip 사용한 코드\n",
    "def sumMatrix(A,B):\n",
    "    return [list(map(sum, zip(*x))) for x in zip(A, B)]\n",
    "\n",
    "# 아래는 테스트로 출력해 보기 위한 코드입니다.\n",
    "print(sumMatrix([[1,2], [2,3]], [[3,4],[5,6]]))"
   ]
  },
  {
   "cell_type": "markdown",
   "metadata": {},
   "source": [
    "## Lv1.직사각형 별찍기\n",
    "이 문제에는 표준 입력으로 두 개의 정수 n과 m이 주어집니다.\n",
    "별(*) 문자를 이용해 가로의 길이가 n, 세로의 길이가 m인 직사각형 형태를 출력해보세요.\n",
    "\n"
   ]
  },
  {
   "cell_type": "code",
   "execution_count": 106,
   "metadata": {},
   "outputs": [
    {
     "name": "stdout",
     "output_type": "stream",
     "text": [
      "5 3\n",
      "*****\n",
      "*****\n",
      "*****\n"
     ]
    }
   ],
   "source": [
    "a,b=map(int,input().strip().split(' '))\n",
    "\n",
    "for i in range(b):\n",
    "    print('*'*a)"
   ]
  },
  {
   "cell_type": "code",
   "execution_count": 110,
   "metadata": {},
   "outputs": [
    {
     "name": "stdout",
     "output_type": "stream",
     "text": [
      "5 3\n",
      "*****\n",
      "*****\n",
      "*****\n",
      "\n"
     ]
    }
   ],
   "source": [
    "##참고코드-간결 ver\n",
    "a,b=map(int,input().strip().split(' '))\n",
    "\n",
    "answer=(a*'*'+'\\n')*b\n",
    "print(answer)"
   ]
  },
  {
   "cell_type": "markdown",
   "metadata": {},
   "source": [
    "### Lv1.최대공약수와 최소공배수\n",
    "두 수를 입력받아 두 수의 최대공약수와 최소공배수를 반환하는 함수, solution을 완성해 보세요. 배열의 맨 앞에 최대공약수, 그다음 최소공배수를 넣어 반환하면 됩니다. 예를 들어 두 수 3, 12의 최대공약수는 3, 최소공배수는 12이므로 solution(3, 12)는 [3, 12]를 반환해야 합니다.\n",
    "\n"
   ]
  },
  {
   "cell_type": "code",
   "execution_count": 279,
   "metadata": {},
   "outputs": [],
   "source": [
    "def solution(a,b):\n",
    "    answer=[0,0]\n",
    "    \n",
    "    \n",
    "    #a,b의 각각 약수 구하기\n",
    "    #두 약수의 공통값 구하기\n",
    "    #공통값 중 max값이 최대공약수\n",
    "    \n",
    "    #최대공약수\n",
    "    answer[0]=max([i for i in range(min(a,b),0,-1)if a%i==0 and b%i==0])\n",
    "    \n",
    "    #최소공배수 구하기\n",
    "    answer[1]=min([k for k in range(1,(a*b)+1) if (k%a==0)and(k%b==0)])\n",
    "    \n",
    "\n",
    "        \n",
    "    return  answer"
   ]
  },
  {
   "cell_type": "code",
   "execution_count": 282,
   "metadata": {},
   "outputs": [
    {
     "data": {
      "text/plain": [
       "[1, 12]"
      ]
     },
     "execution_count": 282,
     "metadata": {},
     "output_type": "execute_result"
    }
   ],
   "source": [
    "solution(1,12)"
   ]
  },
  {
   "cell_type": "markdown",
   "metadata": {},
   "source": [
    "## Lv1.이상한 문자 만들기\n",
    "문자열 s는 한 개 이상의 단어로 구성되어 있습니다. 각 단어는 하나 이상의 공백문자로 구분되어 있습니다. 각 단어의 짝수번째 알파벳은 대문자로, 홀수번째 알파벳은 소문자로 바꾼 문자열을 리턴하는 함수, solution을 완성하세요.\n",
    "\n",
    "단어 사이 공백이 여러개\n",
    "\n",
    "문자의 시작과 끝에 공백\n",
    "\n",
    "단어에 대문자가 섞여있는 경우\n",
    "\n"
   ]
  },
  {
   "cell_type": "code",
   "execution_count": 57,
   "metadata": {},
   "outputs": [],
   "source": [
    "def weird_string(s):\n",
    "    \n",
    "    arr=[]\n",
    "    answer=''\n",
    "    \n",
    "    #1.모든 문자를 소문자로 변경->단어에 대문자가 섞여있을 수 있기 때문에\n",
    "    s=s.lower()\n",
    "    \n",
    "    #2.단어별로 분리\n",
    "    words=list(s.split())\n",
    "    #words=['try', 'hello', 'world']\n",
    "\n",
    "    \n",
    "    for i in words:\n",
    "        answer+=' ' #answer 단어별로 answer 초기화\n",
    "        for ss in range(0,len(i)):\n",
    "            if ss%2==0:\n",
    "                answer+=i[ss].upper()\n",
    "            else:\n",
    "                answer+=i[ss]\n",
    "          \n",
    "        \n",
    "    return answer.strip()"
   ]
  },
  {
   "cell_type": "code",
   "execution_count": 59,
   "metadata": {},
   "outputs": [
    {
     "data": {
      "text/plain": [
       "'TrY HeLlO WoRlD'"
      ]
     },
     "execution_count": 59,
     "metadata": {},
     "output_type": "execute_result"
    }
   ],
   "source": [
    "weird_string(\"  tRy hello  WORLD    \")"
   ]
  },
  {
   "cell_type": "code",
   "execution_count": null,
   "metadata": {},
   "outputs": [],
   "source": []
  },
  {
   "cell_type": "code",
   "execution_count": null,
   "metadata": {},
   "outputs": [],
   "source": []
  },
  {
   "cell_type": "code",
   "execution_count": null,
   "metadata": {},
   "outputs": [],
   "source": [
    "#4.오름차순으로 정렬이 된 두 리스트가 주어지면 두 리스트를 \n",
    "#오름차순으로 합쳐 출력하는 프로그램을 작성하세요\n",
    "\n",
    "10\n",
    "1 10 27 39 50 61 65 70 93 93 \n",
    "7\n",
    "7 51 65 66 70 82 93 \n",
    "\n",
    "#####################################\n",
    "# 입력값을 파일에 담아두고, 파일을 읽어오는 방식\n",
    "import sys\n",
    "base='/Users/leesh970930/Desktop/pythonalgorithm_formac/섹션 3/'\n",
    "#표준입력을 파일로 설정->txt파일을 읽어들여옴\n",
    "sys.stdin=open(base+'4. 두 리스트 합치기/in2.txt', \"r\")\n",
    "#####################################\n",
    "\n",
    "#한줄 씩 입력 받기\n",
    "#표준 입력을 사용자입력이 아닌 파일입력으로 바꿨으므로, \n",
    "#input()함수는 더이상 사용자 입력을 받지 않고, 지정된 입력 파일을 읽게됨\n",
    "n1=int(input())\n",
    "arr1=list(map(int,input().split()))\n",
    "n2=int(input())\n",
    "arr2=list(map(int,input().split()))\n",
    "new_arr=[]\n",
    "#포인터변수 초기화 (arr1의 포인터=p1,arr2의 포인터=p2)\n",
    "p1=p2=0\n",
    "\n",
    "\"\"\"\n",
    "new_arr=(arr1+arr2)\n",
    "new_arr.sort()\n",
    "\n",
    "리스트 합친 후 정렬->파이썬 내장함수인 sort()는 퀵정렬으로 시간복잡도가 nlogn이다\n",
    "이문제는 이미 정렬이 되어있는 리스트를 합치는 것임 ->이 경우 시간복잡도 N번 만에 정렬 가능\n",
    "\"\"\"\n",
    "\n",
    "#리스트 둘중 하나의 자료처리가 완료되면 while문이 멈춤\n",
    "while p1<n1 and p2<n2:\n",
    "    if arr1[p1]<=arr2[p2]:\n",
    "        new_arr.append(arr1[p1])\n",
    "        p1+=1 #포인터 증가\n",
    "    else :\n",
    "        new_arr.append(arr2[p2])\n",
    "        p2+=1 #포인터 증가\n",
    "\n",
    "#정렬을 못마친 배열의 나머지 부분을 new_arr에 추가\n",
    "if p1<n1:\n",
    "    new_arr=new_arr+arr1[p1:]\n",
    "else:\n",
    "    new_arr=new_arr+arr2[p2:]\n",
    "\n",
    "#출력 양식에 맞게 다시 출력\n",
    "for x in new_arr:\n",
    "    print(x,end=' ')\n",
    "\n",
    "# 1 7 10 27 39 50 51 61 65 65 66 70 70 82 93 93 93\n"
   ]
  }
 ],
 "metadata": {
  "kernelspec": {
   "display_name": "Python 3",
   "language": "python",
   "name": "python3"
  },
  "language_info": {
   "codemirror_mode": {
    "name": "ipython",
    "version": 3
   },
   "file_extension": ".py",
   "mimetype": "text/x-python",
   "name": "python",
   "nbconvert_exporter": "python",
   "pygments_lexer": "ipython3",
   "version": "3.8.3"
  }
 },
 "nbformat": 4,
 "nbformat_minor": 4
}
