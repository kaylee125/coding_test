{
 "cells": [
  {
   "cell_type": "markdown",
   "metadata": {},
   "source": [
    "### Lv1.완주하지 못한 선수(풀이 참고)\n",
    "수많은 마라톤 선수들이 마라톤에 참여하였습니다. 단 한 명의 선수를 제외하고는 모든 선수가 마라톤을 완주하였습니다.\n",
    "\n",
    "마라톤에 참여한 선수들의 이름이 담긴 배열 participant와 완주한 선수들의 이름이 담긴 배열 completion이 주어질 때, 완주하지 못한 선수의 이름을 return 하도록 solution 함수를 작성해주세요."
   ]
  },
  {
   "cell_type": "code",
   "execution_count": 5,
   "metadata": {},
   "outputs": [],
   "source": [
    "###hash알고리즘 사용###\n",
    "\n",
    "#1)HashMap 만들기\n",
    "#2) HashMap에 Participant 추가하기\n",
    "#3) sumHash에서 완주한 선수의 Hash값 빼기\n",
    "#4) Value가 0이 아닌 참가자 찾기\n",
    "\n",
    "def solution(participant, completion):\n",
    "    hashDict={}\n",
    "    sumHash=0\n",
    "    \n",
    "    #Participant의 dictionary 만들기\n",
    "    for part in participant:\n",
    "        hashDict[hash(part)]=part #Key는 hash한 값, Value는 각 선수의 이름\n",
    "        sumHash+=hash(part)\n",
    "    \n",
    "    #completion의 sum(hash) 빼기\n",
    "    for comp in completion:\n",
    "        sumHash-=hash(comp)\n",
    "    \n",
    "    return hashDict[sumHash]\n",
    "    "
   ]
  },
  {
   "cell_type": "code",
   "execution_count": 9,
   "metadata": {},
   "outputs": [],
   "source": [
    "###정렬###\n",
    "def solution(participant,completion):\n",
    "    #두 리스트 각각 정렬하기\n",
    "    participant.sort()\n",
    "    completion.sort()\n",
    "\n",
    "    #completion 리스트 길이만큼 비교해서 다른 value값 찾아내기\n",
    "    for i in range(len(completion)):\n",
    "        if participant[i]!=completion[i]:\n",
    "            return participant[i]\n",
    "        \n",
    "    #다른 값이 없다면 participant의 맨 마지막 값이 결과값   \n",
    "    return participant[len(participant)-1]\n"
   ]
  },
  {
   "cell_type": "code",
   "execution_count": 32,
   "metadata": {},
   "outputs": [],
   "source": [
    "###counter###\n",
    "# Python이 제공하는 collections 라는 모듈의 한 class이다.\n",
    "# list를 가지고 Counter를 생성하면, Counter는 Key가 이름이고, Value가 count 인 dictionary를 반환하게 된다. \n",
    "import collections\n",
    "def solution(participant,completion):\n",
    "    answer= collections.Counter(participant)-collections.Counter(completion)\n",
    "    return list(answer.keys())[0]\n",
    "    # return answer -> 결과값: Counter({'leo': 1})\n",
    "    # return answer.keys() -> 결과값: dict_keys(['leo'])\n",
    "    # return list(answer.keys())[0] -> 결과값:'leo'\n",
    "    \n",
    "    "
   ]
  },
  {
   "cell_type": "code",
   "execution_count": 33,
   "metadata": {},
   "outputs": [
    {
     "data": {
      "text/plain": [
       "'leo'"
      ]
     },
     "execution_count": 33,
     "metadata": {},
     "output_type": "execute_result"
    }
   ],
   "source": [
    "solution([\"leo\", \"kiki\", \"eden\"],[\"eden\", \"kiki\"])"
   ]
  },
  {
   "cell_type": "markdown",
   "metadata": {},
   "source": [
    "### Lv1. 폰켓몬(스스로 품)\n",
    "홍 박사님은 당신에게 자신의 연구실에 있는 총 N 마리의 폰켓몬 중에서 N/2마리를 가져가도 좋다고 했습니다.\n",
    "\n",
    "연구실의 폰켓몬은 종류에 따라 번호를 붙여 구분합니다.\n",
    "\n",
    "당신은 최대한 다양한 종류의 폰켓몬을 가지길 원하기 때문에, 최대한 많은 종류의 폰켓몬을 포함해서 N/2마리를 선택하려 합니다. "
   ]
  },
  {
   "cell_type": "code",
   "execution_count": 57,
   "metadata": {},
   "outputs": [],
   "source": [
    "#내가 푼 풀이-collections.Counter사용\n",
    "\n",
    "import collections\n",
    "\n",
    "def solution(nums):\n",
    "    answer=0\n",
    "    # i) N//2값이 set(nums)의 갯수보다 클때\n",
    "    if len(nums)//2>len(set(nums)): \n",
    "        answer= collections.Counter(nums)\n",
    "        answer=len(list(answer.keys()))\n",
    "        return answer\n",
    "    # ii) N//2값이 set(nums)의 갯수보다 작을때\n",
    "    return len(nums)//2"
   ]
  },
  {
   "cell_type": "code",
   "execution_count": 69,
   "metadata": {},
   "outputs": [],
   "source": [
    "#참고한 풀이 -set함수 사용\n",
    "def solution(nums):\n",
    "    choose = int(len(nums) / 2) # 주어지는 리스트는 항상 짝수\n",
    "    nums = set(nums) # set으로 중복 제거\n",
    "    \n",
    "    answer = min(len(nums), choose)\n",
    "    \n",
    "    return answer"
   ]
  },
  {
   "cell_type": "code",
   "execution_count": 70,
   "metadata": {},
   "outputs": [
    {
     "data": {
      "text/plain": [
       "{3: 3, 2: 2, 4: 4}"
      ]
     },
     "execution_count": 70,
     "metadata": {},
     "output_type": "execute_result"
    }
   ],
   "source": [
    "solution([3,3,3,2,2,4])"
   ]
  },
  {
   "cell_type": "markdown",
   "metadata": {},
   "source": [
    "### Lv2.전화번호 목록\n",
    "- 1.이중for문\n",
    "- 2.sort+for문\n",
    "- 3.hash"
   ]
  },
  {
   "cell_type": "code",
   "execution_count": 118,
   "metadata": {},
   "outputs": [],
   "source": [
    "#이중 for문\n",
    "def solution(phone_book):\n",
    "    answer=True\n",
    "    #비교할 A선택\n",
    "    for a in phone_book:\n",
    "        #비교할 B선택\n",
    "        for b in phone_book[1:]:\n",
    "            #서로가 서로의 접두어인지 확인\n",
    "            if a.startswith(b):\n",
    "                answer= False\n",
    "            if b.startswith(a):\n",
    "                anwer= False\n",
    "\n",
    "    return answer"
   ]
  },
  {
   "cell_type": "code",
   "execution_count": 126,
   "metadata": {},
   "outputs": [],
   "source": [
    "#sort+for문:순서대로 두개씩 비교\n",
    "\n",
    "def solution(phone_book):\n",
    "    phone_book.sort()\n",
    "    #A와 A+1 비교\n",
    "    for a in range(0,len(phone_book)-1):\n",
    "        if phone_book[a+1].startswith(phone_book[a]):\n",
    "            return False\n",
    "        \n",
    "#     #zip함수 활용\n",
    "#     for a,b in zip(phone_book,phone_book[1:]):\n",
    "#         if a.startswith(b):\n",
    "#             return False\n",
    "    \n",
    "    \n",
    "    return True"
   ]
  },
  {
   "cell_type": "code",
   "execution_count": 156,
   "metadata": {},
   "outputs": [],
   "source": [
    "#hash\n",
    "def solution(phone_book):\n",
    "    #1.hash map 만들기:key값이 전화번호인 해시맵\n",
    "    hashmap={}\n",
    "    for phone_number in phone_book:\n",
    "        hashmap[phone_number]=1\n",
    "    print(hashmap)\n",
    "    #2.각 번호의 접두어가 hash map에 있는지 확인\n",
    "    for phone_number in phone_book:  #[\"119\", \"97674223\", \"1195524421\"]\n",
    "        jubdoo=''\n",
    "        for num in phone_number: #['119']\n",
    "            jubdoo+=num #접두어 만들기\n",
    "            #3.접두어가 전화번호목록에 존재하는지 찾기\n",
    "            if jubdoo in hashmap.keys() and jubdoo!=phone_number:\n",
    "                return False\n",
    "    \n",
    "    \n",
    "    return True"
   ]
  },
  {
   "cell_type": "code",
   "execution_count": 157,
   "metadata": {},
   "outputs": [
    {
     "name": "stdout",
     "output_type": "stream",
     "text": [
      "{'119': 1, '97674223': 1, '1195524421': 1}\n"
     ]
    },
    {
     "data": {
      "text/plain": [
       "False"
      ]
     },
     "execution_count": 157,
     "metadata": {},
     "output_type": "execute_result"
    }
   ],
   "source": [
    "solution([\"119\", \"97674223\", \"1195524421\",])"
   ]
  },
  {
   "cell_type": "markdown",
   "metadata": {},
   "source": [
    "### Lv2.위장(풀이참고)\n",
    "\n",
    "의상들이 담긴 2차원 배열 clothes가 주어질 때 서로 다른 옷의 조합의 수를 return 하도록 solution 함수를 작성해주세요.\n",
    "\n",
    "clothes의 각 행은 [의상의 이름, 의상의 종류]로 이루어져 있습니다.\n"
   ]
  },
  {
   "cell_type": "code",
   "execution_count": 146,
   "metadata": {},
   "outputs": [],
   "source": [
    "from itertools import combinations\n",
    "\n",
    "def solution(clothes):\n",
    "    closet=dict() #빈 딕셔너리 생성\n",
    "    answer=[]\n",
    "    for name,category in clothes:\n",
    "        #이미 category 값이 있는 경우\n",
    "        if category in closet:\n",
    "            closet[category].append(name)\n",
    "        #category value 처음 저장하는 경우\n",
    "        else:\n",
    "            closet[category]=[name]\n",
    "            \n",
    "    #closet 해시맵에서 각 카테고리별 조합의 개수를 구하기\n",
    "    for i in clothes:\n",
    "        print(i)\n",
    "        \n",
    "#     for i in range(len(closet.keys())):\n",
    "#         answer.append(list(combinations(list(closet.values()),i)))\n",
    "        \n",
    "        \n",
    "    return closet"
   ]
  },
  {
   "cell_type": "code",
   "execution_count": 147,
   "metadata": {},
   "outputs": [
    {
     "name": "stdout",
     "output_type": "stream",
     "text": [
      "['yellow_hat', 'headgear']\n",
      "['blue_sunglasses', 'eyewear']\n",
      "['green_turban', 'headgear']\n"
     ]
    },
    {
     "data": {
      "text/plain": [
       "{'headgear': ['yellow_hat', 'green_turban'], 'eyewear': ['blue_sunglasses']}"
      ]
     },
     "execution_count": 147,
     "metadata": {},
     "output_type": "execute_result"
    }
   ],
   "source": [
    "solution([[\"yellow_hat\", \"headgear\"], [\"blue_sunglasses\", \"eyewear\"], [\"green_turban\", \"headgear\"]])"
   ]
  },
  {
   "cell_type": "code",
   "execution_count": 99,
   "metadata": {},
   "outputs": [],
   "source": [
    "#체육복\n",
    "#https://school.programmers.co.kr/learn/courses/30/lessons/42862\n",
    "#여벌 체육복을 가져온 학생이 체육복을 도난당했을 수 있습니다. \n",
    "#이때 이 학생은 체육복을 하나만 도난당했다고 가정하며, 남은 체육복이 하나이기에 다른 학생에게는 체육복을 빌려줄 수 없습니다.\n",
    "\n",
    "def solution(n, lost, reserve):\n",
    "    borrowed=[]\n",
    "    for i in lost:\n",
    "        print(i)\n",
    "        if (i+1 not in reserve) or (i-1 not in reserve):\n",
    "            #두 값이 전부 reserve에 없으면 체육복을 얻어입을 수 없으므로 수업 참여 불가\n",
    "            #하나라도 있으면 참여 가능(or)\n",
    "            \n",
    "            if i+1 in borrowed or i-1 in borrowed :\n",
    "                n=n\n",
    "            else:\n",
    "                n=n-1\n",
    "                \n",
    "            borrowed.append(i+1)\n",
    "            borrowed.append(i-1)\n",
    "            print(borrowed)\n",
    "\n",
    "           \n",
    "    return n\n"
   ]
  },
  {
   "cell_type": "code",
   "execution_count": 98,
   "metadata": {},
   "outputs": [
    {
     "name": "stdout",
     "output_type": "stream",
     "text": [
      "2\n",
      "4\n"
     ]
    },
    {
     "data": {
      "text/plain": [
       "5"
      ]
     },
     "execution_count": 98,
     "metadata": {},
     "output_type": "execute_result"
    }
   ],
   "source": [
    "solution(5,[2,4],[1,3,5])"
   ]
  },
  {
   "cell_type": "markdown",
   "metadata": {},
   "source": [
    "## Lv1.이상한 문자 만들기\n",
    "문자열 s는 한 개 이상의 단어로 구성되어 있습니다. 각 단어는 하나 이상의 공백문자로 구분되어 있습니다. 각 단어의 짝수번째 알파벳은 대문자로, 홀수번째 알파벳은 소문자로 바꾼 문자열을 리턴하는 함수, solution을 완성하세요.\n",
    "\n",
    "단어 사이 공백이 여러개\n",
    "\n",
    "문자의 시작과 끝에 공백\n",
    "\n",
    "단어에 대문자가 섞여있는 경우\n",
    "\n"
   ]
  },
  {
   "cell_type": "code",
   "execution_count": 150,
   "metadata": {},
   "outputs": [],
   "source": [
    "def weird_string(s):\n",
    "    \n",
    "    arr=[]\n",
    "    answer=''\n",
    "    \n",
    "    #1.모든 문자를 소문자로 변경->단어에 대문자가 섞여있을 수 있기 때문에\n",
    "    s=s.lower()\n",
    "    \n",
    "    #2.단어별로 분리\n",
    "    words=list(s.split(' '))\n",
    "    #words=['try', 'hello', 'world']\n",
    "\n",
    "    \n",
    "    for i in words:\n",
    "        answer+=' ' #answer 단어별로 answer 초기화\n",
    "        for ss in range(0,len(i)):\n",
    "            if ss%2==0:\n",
    "                answer+=i[ss].upper()\n",
    "            else:\n",
    "                answer+=i[ss].lower()\n",
    "          \n",
    "        \n",
    "    return answer.strip()"
   ]
  },
  {
   "cell_type": "code",
   "execution_count": 151,
   "metadata": {},
   "outputs": [
    {
     "data": {
      "text/plain": [
       "'TrY HeLlO  WoRlD'"
      ]
     },
     "execution_count": 151,
     "metadata": {},
     "output_type": "execute_result"
    }
   ],
   "source": [
    "weird_string(\"  tRy hello  WORLD    \")"
   ]
  },
  {
   "cell_type": "code",
   "execution_count": null,
   "metadata": {},
   "outputs": [],
   "source": []
  }
 ],
 "metadata": {
  "kernelspec": {
   "display_name": "Python 3",
   "language": "python",
   "name": "python3"
  },
  "language_info": {
   "codemirror_mode": {
    "name": "ipython",
    "version": 3
   },
   "file_extension": ".py",
   "mimetype": "text/x-python",
   "name": "python",
   "nbconvert_exporter": "python",
   "pygments_lexer": "ipython3",
   "version": "3.8.3"
  }
 },
 "nbformat": 4,
 "nbformat_minor": 4
}
