{
 "cells": [
  {
   "cell_type": "markdown",
   "metadata": {},
   "source": [
    "### 올바른 괄호"
   ]
  },
  {
   "cell_type": "code",
   "execution_count": 49,
   "metadata": {},
   "outputs": [],
   "source": [
    "#실패한 코드\n",
    "#실패한 이유:IndexError: list index out of range 에러\n",
    "#stack[-1]값이 없을 경우가 있어서 인풋값에 따라 에러가 남\n",
    "def solution(s):\n",
    "    stack=[]\n",
    "\n",
    "    for i in range(len(s)):\n",
    "        #만약 s[i]가 여는 괄호면 스택에 추가\n",
    "        if s[i]=='(':\n",
    "            stack.append(s[i])\n",
    "\n",
    "        #닫힌 괄호면 바로 앞에 문자 확인\n",
    "        else:\n",
    "            #앞에 문자가 여는괄호면:올바른 괄호->pop\n",
    "            if stack[-1]=='(':\n",
    "                stack.pop()\n",
    "            elif stacl[-1]==')':\n",
    "                stack.append(s[i])\n",
    "            #앞에 문자가 닫는 괄호면:올바르지 않은 괄호->stack에 ')' append          \n",
    "\n",
    "    if stack:\n",
    "        return False\n",
    "    return True"
   ]
  },
  {
   "cell_type": "code",
   "execution_count": 47,
   "metadata": {},
   "outputs": [],
   "source": [
    "#수정하여 성공한 코드\n",
    "\n",
    "def solution(s):\n",
    "    stack=[]\n",
    "\n",
    "    for i in range(len(s)):\n",
    "        #'('일때 스택에 추가\n",
    "        if s[i]=='(':\n",
    "            stack.append(s[i])\n",
    "\n",
    "        #')'일때\n",
    "        else:\n",
    "            #1)stack에 값이 있을경우(올바른 괄호 성립) 스택값을 pop한다\n",
    "            if stack:\n",
    "                stack.pop()\n",
    "            #2)stack에 값이 없을 경우(올바른 괄호가 성립이 안됨) False를 return\n",
    "            else:\n",
    "                return False\n",
    "                    \n",
    "    #stack값이 len(s)동안 다 pop되지 않은 경우에 대한 처리\n",
    "    if stack:\n",
    "        return False\n",
    "    return True"
   ]
  },
  {
   "cell_type": "code",
   "execution_count": 53,
   "metadata": {},
   "outputs": [
    {
     "ename": "IndexError",
     "evalue": "list index out of range",
     "output_type": "error",
     "traceback": [
      "\u001b[0;31m---------------------------------------------------------------------------\u001b[0m",
      "\u001b[0;31mIndexError\u001b[0m                                Traceback (most recent call last)",
      "\u001b[0;32m<ipython-input-53-3d50628d30ce>\u001b[0m in \u001b[0;36m<module>\u001b[0;34m\u001b[0m\n\u001b[0;32m----> 1\u001b[0;31m \u001b[0msolution\u001b[0m\u001b[0;34m(\u001b[0m\u001b[0;34m\"(()())))\"\u001b[0m\u001b[0;34m)\u001b[0m\u001b[0;34m\u001b[0m\u001b[0;34m\u001b[0m\u001b[0m\n\u001b[0m",
      "\u001b[0;32m<ipython-input-49-3ed91a1e23fa>\u001b[0m in \u001b[0;36msolution\u001b[0;34m(s)\u001b[0m\n\u001b[1;32m     12\u001b[0m         \u001b[0;32melse\u001b[0m\u001b[0;34m:\u001b[0m\u001b[0;34m\u001b[0m\u001b[0;34m\u001b[0m\u001b[0m\n\u001b[1;32m     13\u001b[0m             \u001b[0;31m#앞에 문자가 여는괄호면:올바른 괄호->pop\u001b[0m\u001b[0;34m\u001b[0m\u001b[0;34m\u001b[0m\u001b[0;34m\u001b[0m\u001b[0m\n\u001b[0;32m---> 14\u001b[0;31m             \u001b[0;32mif\u001b[0m \u001b[0mstack\u001b[0m\u001b[0;34m[\u001b[0m\u001b[0;34m-\u001b[0m\u001b[0;36m1\u001b[0m\u001b[0;34m]\u001b[0m\u001b[0;34m==\u001b[0m\u001b[0;34m'('\u001b[0m\u001b[0;34m:\u001b[0m\u001b[0;34m\u001b[0m\u001b[0;34m\u001b[0m\u001b[0m\n\u001b[0m\u001b[1;32m     15\u001b[0m                 \u001b[0mstack\u001b[0m\u001b[0;34m.\u001b[0m\u001b[0mpop\u001b[0m\u001b[0;34m(\u001b[0m\u001b[0;34m)\u001b[0m\u001b[0;34m\u001b[0m\u001b[0;34m\u001b[0m\u001b[0m\n\u001b[1;32m     16\u001b[0m             \u001b[0;32melif\u001b[0m \u001b[0mstacl\u001b[0m\u001b[0;34m[\u001b[0m\u001b[0;34m-\u001b[0m\u001b[0;36m1\u001b[0m\u001b[0;34m]\u001b[0m\u001b[0;34m==\u001b[0m\u001b[0;34m')'\u001b[0m\u001b[0;34m:\u001b[0m\u001b[0;34m\u001b[0m\u001b[0;34m\u001b[0m\u001b[0m\n",
      "\u001b[0;31mIndexError\u001b[0m: list index out of range"
     ]
    }
   ],
   "source": [
    "solution(\"(()())))\")"
   ]
  },
  {
   "cell_type": "code",
   "execution_count": null,
   "metadata": {},
   "outputs": [],
   "source": []
  },
  {
   "cell_type": "code",
   "execution_count": null,
   "metadata": {},
   "outputs": [],
   "source": []
  }
 ],
 "metadata": {
  "kernelspec": {
   "display_name": "Python 3",
   "language": "python",
   "name": "python3"
  },
  "language_info": {
   "codemirror_mode": {
    "name": "ipython",
    "version": 3
   },
   "file_extension": ".py",
   "mimetype": "text/x-python",
   "name": "python",
   "nbconvert_exporter": "python",
   "pygments_lexer": "ipython3",
   "version": "3.8.3"
  }
 },
 "nbformat": 4,
 "nbformat_minor": 4
}
