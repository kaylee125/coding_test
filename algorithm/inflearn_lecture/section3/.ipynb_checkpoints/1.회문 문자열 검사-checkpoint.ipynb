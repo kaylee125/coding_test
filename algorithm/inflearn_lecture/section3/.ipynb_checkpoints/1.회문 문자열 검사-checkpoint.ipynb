{
 "cells": [
  {
   "cell_type": "markdown",
   "metadata": {},
   "source": [
    "## N개의 문자열 데이터를 입력받아 앞에서 읽을때나 뒤에사 읽을때나 같은 경우면 YES 아니면 NO 출력"
   ]
  },
  {
   "cell_type": "code",
   "execution_count": 1,
   "metadata": {},
   "outputs": [],
   "source": [
    "####내 풀이####\n",
    "\n",
    "def solution(s):\n",
    "    reverse_s=''\n",
    "    #문자열 뒤집기\n",
    "    for i in range(len(s)-1,-1,-1):\n",
    "        reverse_s+=s[i]\n",
    "        \n",
    "    #뒤집은 문자열과 원래 s 비교(대소문자 구별 안함)\n",
    "    if s.upper()==reverse_s.upper():\n",
    "        return 'YES'\n",
    "    else:\n",
    "        return 'NO'\n"
   ]
  },
  {
   "cell_type": "code",
   "execution_count": 1,
   "metadata": {},
   "outputs": [
    {
     "name": "stdout",
     "output_type": "stream",
     "text": [
      "YES\n"
     ]
    }
   ],
   "source": [
    "###파이썬스러운 코드\n",
    "\n",
    "def solution1(s):\n",
    "    \n",
    "    s=s.upper()\n",
    "    if s==s[::-1]:\n",
    "        print ('YES')\n",
    "    else:\n",
    "        print ('NO')\n",
    "\n",
    "def solution2(s):\n",
    "    s=s.upper()\n",
    "    #문자의 길이를 2로 나눈 몫의 값의 쌍 만큼 문자 비교\n",
    "    for j in range(len(s)//2):\n",
    "        #len(s)=5,j=1일 경우, s[1]번째와 s[-1-1]번째 문자를 5//2인 2번 비교\n",
    "        if s[j]!=s[-1-j]: \n",
    "            print('No')\n",
    "            break\n",
    "    else:\n",
    "        print('YES')\n",
    "\n",
    "solution2('Goog')"
   ]
  },
  {
   "cell_type": "code",
   "execution_count": null,
   "metadata": {},
   "outputs": [],
   "source": []
  }
 ],
 "metadata": {
  "kernelspec": {
   "display_name": "Python 3",
   "language": "python",
   "name": "python3"
  },
  "language_info": {
   "codemirror_mode": {
    "name": "ipython",
    "version": 3
   },
   "file_extension": ".py",
   "mimetype": "text/x-python",
   "name": "python",
   "nbconvert_exporter": "python",
   "pygments_lexer": "ipython3",
   "version": "3.8.3"
  }
 },
 "nbformat": 4,
 "nbformat_minor": 4
}
