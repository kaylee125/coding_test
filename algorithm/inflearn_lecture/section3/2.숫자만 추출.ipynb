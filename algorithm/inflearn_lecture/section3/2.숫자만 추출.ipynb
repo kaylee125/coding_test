{
 "cells": [
  {
   "cell_type": "code",
   "execution_count": 1,
   "metadata": {},
   "outputs": [
    {
     "name": "stdout",
     "output_type": "stream",
     "text": [
      "16\n"
     ]
    },
    {
     "data": {
      "text/plain": [
       "16"
      ]
     },
     "execution_count": 1,
     "metadata": {},
     "output_type": "execute_result"
    }
   ],
   "source": [
    "def solution(s):\n",
    "    num=''\n",
    "    count=0\n",
    "    for x in s:\n",
    "        if x.isdigit():\n",
    "            num+=x\n",
    "\n",
    "\n",
    "    for i in range(1,int(num)+1):\n",
    "        if int(num)%i==0:\n",
    "            count+=1\n",
    "    print(count)\n",
    "\n",
    "    return count\n",
    "\n",
    "solution('kdk1k0kdjfkj0kkd jkfj0fkd')"
   ]
  },
  {
   "cell_type": "code",
   "execution_count": null,
   "metadata": {},
   "outputs": [],
   "source": []
  }
 ],
 "metadata": {
  "kernelspec": {
   "display_name": "Python 3",
   "language": "python",
   "name": "python3"
  },
  "language_info": {
   "codemirror_mode": {
    "name": "ipython",
    "version": 3
   },
   "file_extension": ".py",
   "mimetype": "text/x-python",
   "name": "python",
   "nbconvert_exporter": "python",
   "pygments_lexer": "ipython3",
   "version": "3.8.3"
  }
 },
 "nbformat": 4,
 "nbformat_minor": 4
}
